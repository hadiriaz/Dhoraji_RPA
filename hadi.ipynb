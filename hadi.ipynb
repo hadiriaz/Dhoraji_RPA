{
 "cells": [
  {
   "cell_type": "code",
   "execution_count": 7,
   "metadata": {},
   "outputs": [
    {
     "name": "stdout",
     "output_type": "stream",
     "text": [
      "congratulations you got A+\n"
     ]
    }
   ],
   "source": [
    "marks = 445\n",
    "parcentage = marks/5\n",
    "\n",
    "if parcentage >= 80:\n",
    "    print(\"congratulations you got A+\")\n",
    "    \n",
    "elif parcentage >= 70:\n",
    "    print(\"congratulations you got A\")\n",
    "    \n",
    "elif parcentage >= 60:\n",
    "    print(\"congratulations you got B\")\n",
    "    \n",
    "elif parcentage >= 50:\n",
    "    print(\"congratulations you got C\")\n",
    "    \n",
    "else:\n",
    "    print(\"you need to work hard you got D\")"
   ]
  },
  {
   "cell_type": "code",
   "execution_count": null,
   "metadata": {},
   "outputs": [],
   "source": []
  }
 ],
 "metadata": {
  "kernelspec": {
   "display_name": "Python 3",
   "language": "python",
   "name": "python3"
  },
  "language_info": {
   "codemirror_mode": {
    "name": "ipython",
    "version": 3
   },
   "file_extension": ".py",
   "mimetype": "text/x-python",
   "name": "python",
   "nbconvert_exporter": "python",
   "pygments_lexer": "ipython3",
   "version": "3.8.3"
  }
 },
 "nbformat": 4,
 "nbformat_minor": 4
}
